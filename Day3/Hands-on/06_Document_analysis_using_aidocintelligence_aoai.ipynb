{
  "cells": [
    {
      "cell_type": "markdown",
      "metadata": {},
      "source": [
        "# Document Analysis\n",
        "Compare same document or similar documents with version difference\n",
        "\n",
        "Navigate to the files you want to analyse in the portal - it should be uploaded into blob storage  \n",
        "On the far right there are 3 dots from there you can generate a SAS url for the file.\n",
        "in your .env file populate BLOB_SAS_URL and BLOB_SAS_URL_1 with the SAS url.of the 2 files."
      ]
    },
    {
      "cell_type": "markdown",
      "metadata": {},
      "source": [
        "### 1. Install required libraries"
      ]
    },
    {
      "cell_type": "code",
      "execution_count": null,
      "metadata": {},
      "outputs": [],
      "source": [
        "%pip install azure-storage-blob azure-ai-formrecognizer azure-identity openai"
      ]
    },
    {
      "cell_type": "markdown",
      "metadata": {},
      "source": [
        "### 2. Import helper libraries and load credentials from .env file"
      ]
    },
    {
      "cell_type": "code",
      "execution_count": null,
      "metadata": {
        "gather": {
          "logged": 1726573879200
        }
      },
      "outputs": [],
      "source": [
        "import os\n",
        "from openai import AzureOpenAI\n",
        "import numpy as np\n",
        "from dotenv import load_dotenv\n",
        "load_dotenv()"
      ]
    },
    {
      "cell_type": "markdown",
      "metadata": {},
      "source": [
        "### 2. Create DocumentComparisonController class \n",
        "Designed to compare two PDF documents using Azure AI Document Intelligence and Azure OpenAI services. It extracts text content from the documents and uses OpenAI to analyze and compare the documents based on a user-provided prompt."
      ]
    },
    {
      "cell_type": "code",
      "execution_count": null,
      "metadata": {
        "gather": {
          "logged": 1726574649841
        }
      },
      "outputs": [],
      "source": [
        "from azure.storage.blob import BlobServiceClient, generate_blob_sas, BlobSasPermissions\n",
        "from azure.ai.formrecognizer import DocumentAnalysisClient\n",
        "from azure.core.credentials import AzureKeyCredential\n",
        "from openai import AzureOpenAI\n",
        "import datetime\n",
        "\n",
        "class DocumentComparisonController:\n",
        "    def __init__(self):\n",
        "        self.FormRecogEndpoint = os.environ['FORM_RECOGNIZER_ENDPOINT']\n",
        "        self.FormRecogKey = os.environ['FORM_RECOGNIZER_KEY']\n",
        "        self.AOAIendpoint = os.environ['OPENAI_API_ENDPOINT']\n",
        "        self.AOAIKey = os.environ['OPENAI_API_KEY']\n",
        "        self.AOAIDeploymentName = os.environ['GPT4_MODEL_NAME']\n",
        "        self.AOAIAPIVersion = os.environ['OPENAI_API_VERSION']\n",
        "        self.model = {}\n",
        "\n",
        "    def document_comparison_post(self, document_urls, prompt):\n",
        "        self.model['PdfUrl1'] = document_urls[0]\n",
        "        self.model['PdfUrl2'] = document_urls[1]\n",
        "        \n",
        "        output_result = [\"\", \"\"]\n",
        "\n",
        "        # Call AI Doc Intelligence service\n",
        "        for i, url in enumerate(document_urls):\n",
        "            client = DocumentAnalysisClient(endpoint=self.FormRecogEndpoint, credential=AzureKeyCredential(self.FormRecogKey))\n",
        "            poller = client.begin_analyze_document_from_url(\"prebuilt-layout\", url)\n",
        "            result = poller.result()\n",
        "            output_result[i] = result.content\n",
        "\n",
        "        try:\n",
        "            aoai_client = AzureOpenAI(\n",
        "             azure_endpoint=self.AOAIendpoint,\n",
        "             api_key=self.AOAIKey,  # this is also the default, it can be omitted\n",
        "             api_version=self.AOAIAPIVersion,\n",
        "             )\n",
        "\n",
        "            messages = [\n",
        "                # Here you can play around and set the system context to GPT models\n",
        "                {\"role\": \"system\", \"content\": f\"You are specialized in analyzing different versions of the same PDF document. The first Document OCR result is: <<<{output_result[0]}>>> and the second Document OCR result is: <<<{output_result[1]}>>>\"},\n",
        "                {\"role\": \"user\", \"content\": f\"User question: {prompt}\"}\n",
        "            ]\n",
        "            # Call OpenAI service\n",
        "            response = aoai_client.chat.completions.create(\n",
        "                model=self.AOAIDeploymentName,\n",
        "                messages=messages,\n",
        "                max_tokens=1000,\n",
        "                temperature=0.7,\n",
        "                frequency_penalty=0,\n",
        "                presence_penalty=0,\n",
        "                top_p=0.95\n",
        "            )\n",
        "\n",
        "            self.model['Message'] = response.choices[0].message.content\n",
        "        except Exception as e:\n",
        "            raise e\n",
        "\n",
        "        return self.model\n",
        "\n",
        "controller = DocumentComparisonController()\n",
        "\n",
        "# Example usage\n",
        "doc_url1 = os.getenv(\"BLOB_SAS_URL\")\n",
        "doc_url2 = os.getenv(\"BLOB_SAS_URL_1\")\n",
        "document_urls = [doc_url1, doc_url2]\n",
        "# tab_names = [\"Tab1\", \"Tab2\"]\n",
        "prompt = \"Compare the documents and provide similary and difference as table format\"\n",
        "\n",
        "result = controller.document_comparison_post(document_urls, prompt)\n",
        "print(\"result----->\",result)"
      ]
    }
  ],
  "metadata": {
    "kernel_info": {
      "name": "python3"
    },
    "kernelspec": {
      "display_name": "Python 3 (ipykernel)",
      "language": "python",
      "name": "python3"
    },
    "language_info": {
      "codemirror_mode": {
        "name": "ipython",
        "version": 3
      },
      "file_extension": ".py",
      "mimetype": "text/x-python",
      "name": "python",
      "nbconvert_exporter": "python",
      "pygments_lexer": "ipython3",
      "version": "3.9.18"
    },
    "microsoft": {
      "ms_spell_check": {
        "ms_spell_check_language": "en"
      }
    },
    "nteract": {
      "version": "nteract-front-end@1.0.0"
    }
  },
  "nbformat": 4,
  "nbformat_minor": 2
}
