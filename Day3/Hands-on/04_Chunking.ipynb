{
 "cells": [
  {
   "cell_type": "markdown",
   "metadata": {},
   "source": [
    "# File Chunking\n",
    "Partitioning large documents into smaller chunks can help you stay under the maximum token input limits of embedding models. For example, the maximum length of input text for the [Azure OpenAI](https://learn.microsoft.com/en-us/azure/ai-services/openai/how-to/embeddings) embedding models is 8,191 tokens. Given that each token is around four characters of text for common OpenAI models, this maximum limit is equivalent to around 6,000 words of text. If you're using these models to generate embeddings, it's critical that the input text stays under the limit. Partitioning your content into chunks ensures that your data can be processed by the embedding models used to populate vector stores and text-to-vector query conversions.\n",
    "\n",
    "This notebook walks through the process used in the [chat-with-your-data-solution-accelerator](https://github.com/Azure-Samples/chat-with-your-data-solution-accelerator/tree/main) repo of analysing file content in [AI Document Intelligence](https://learn.microsoft.com/en-us/azure/ai-services/document-intelligence/overview?view=doc-intel-4.0.0), then breaking it into smaller overlapping chunks using LangChain. These chunks can then be vectorised and stored in a service such as [Azure AI Search](https://learn.microsoft.com/en-us/azure/search/search-what-is-azure-search) which provides secure information retrieval at scale over user-owned content in traditional and generative AI search applications. "
   ]
  },
  {
   "cell_type": "markdown",
   "metadata": {},
   "source": [
    "> NOTE: Before proceeding, you need to complete the steps in the first `00_Setup` notebook."
   ]
  },
  {
   "cell_type": "markdown",
   "metadata": {},
   "source": [
    "### Install dependencies\n",
    "First we install the dependencies required in ths notebook."
   ]
  },
  {
   "cell_type": "code",
   "execution_count": 6,
   "metadata": {},
   "outputs": [
    {
     "name": "stdout",
     "output_type": "stream",
     "text": [
      "Requirement already satisfied: python-dotenv in c:\\users\\agopalan\\appdata\\local\\packages\\pythonsoftwarefoundation.python.3.11_qbz5n2kfra8p0\\localcache\\local-packages\\python311\\site-packages (1.0.1)\n",
      "Note: you may need to restart the kernel to use updated packages.\n",
      "Requirement already satisfied: langchain in c:\\users\\agopalan\\appdata\\local\\packages\\pythonsoftwarefoundation.python.3.11_qbz5n2kfra8p0\\localcache\\local-packages\\python311\\site-packages (0.2.13)\n",
      "Requirement already satisfied: PyYAML>=5.3 in c:\\users\\agopalan\\appdata\\local\\packages\\pythonsoftwarefoundation.python.3.11_qbz5n2kfra8p0\\localcache\\local-packages\\python311\\site-packages (from langchain) (6.0.2)\n",
      "Requirement already satisfied: SQLAlchemy<3,>=1.4 in c:\\users\\agopalan\\appdata\\local\\packages\\pythonsoftwarefoundation.python.3.11_qbz5n2kfra8p0\\localcache\\local-packages\\python311\\site-packages (from langchain) (2.0.32)\n",
      "Requirement already satisfied: aiohttp<4.0.0,>=3.8.3 in c:\\users\\agopalan\\appdata\\local\\packages\\pythonsoftwarefoundation.python.3.11_qbz5n2kfra8p0\\localcache\\local-packages\\python311\\site-packages (from langchain) (3.10.3)\n",
      "Requirement already satisfied: langchain-core<0.3.0,>=0.2.30 in c:\\users\\agopalan\\appdata\\local\\packages\\pythonsoftwarefoundation.python.3.11_qbz5n2kfra8p0\\localcache\\local-packages\\python311\\site-packages (from langchain) (0.2.30)\n",
      "Requirement already satisfied: langchain-text-splitters<0.3.0,>=0.2.0 in c:\\users\\agopalan\\appdata\\local\\packages\\pythonsoftwarefoundation.python.3.11_qbz5n2kfra8p0\\localcache\\local-packages\\python311\\site-packages (from langchain) (0.2.2)\n",
      "Requirement already satisfied: langsmith<0.2.0,>=0.1.17 in c:\\users\\agopalan\\appdata\\local\\packages\\pythonsoftwarefoundation.python.3.11_qbz5n2kfra8p0\\localcache\\local-packages\\python311\\site-packages (from langchain) (0.1.99)\n",
      "Requirement already satisfied: numpy<2,>=1 in c:\\users\\agopalan\\appdata\\local\\packages\\pythonsoftwarefoundation.python.3.11_qbz5n2kfra8p0\\localcache\\local-packages\\python311\\site-packages (from langchain) (1.26.4)\n",
      "Requirement already satisfied: pydantic<3,>=1 in c:\\users\\agopalan\\appdata\\local\\packages\\pythonsoftwarefoundation.python.3.11_qbz5n2kfra8p0\\localcache\\local-packages\\python311\\site-packages (from langchain) (2.8.2)\n",
      "Requirement already satisfied: requests<3,>=2 in c:\\users\\agopalan\\appdata\\local\\packages\\pythonsoftwarefoundation.python.3.11_qbz5n2kfra8p0\\localcache\\local-packages\\python311\\site-packages (from langchain) (2.32.3)\n",
      "Requirement already satisfied: tenacity!=8.4.0,<9.0.0,>=8.1.0 in c:\\users\\agopalan\\appdata\\local\\packages\\pythonsoftwarefoundation.python.3.11_qbz5n2kfra8p0\\localcache\\local-packages\\python311\\site-packages (from langchain) (8.5.0)\n",
      "Requirement already satisfied: aiohappyeyeballs>=2.3.0 in c:\\users\\agopalan\\appdata\\local\\packages\\pythonsoftwarefoundation.python.3.11_qbz5n2kfra8p0\\localcache\\local-packages\\python311\\site-packages (from aiohttp<4.0.0,>=3.8.3->langchain) (2.3.5)\n",
      "Requirement already satisfied: aiosignal>=1.1.2 in c:\\users\\agopalan\\appdata\\local\\packages\\pythonsoftwarefoundation.python.3.11_qbz5n2kfra8p0\\localcache\\local-packages\\python311\\site-packages (from aiohttp<4.0.0,>=3.8.3->langchain) (1.3.1)\n",
      "Requirement already satisfied: attrs>=17.3.0 in c:\\users\\agopalan\\appdata\\local\\packages\\pythonsoftwarefoundation.python.3.11_qbz5n2kfra8p0\\localcache\\local-packages\\python311\\site-packages (from aiohttp<4.0.0,>=3.8.3->langchain) (24.2.0)\n",
      "Requirement already satisfied: frozenlist>=1.1.1 in c:\\users\\agopalan\\appdata\\local\\packages\\pythonsoftwarefoundation.python.3.11_qbz5n2kfra8p0\\localcache\\local-packages\\python311\\site-packages (from aiohttp<4.0.0,>=3.8.3->langchain) (1.4.1)\n",
      "Requirement already satisfied: multidict<7.0,>=4.5 in c:\\users\\agopalan\\appdata\\local\\packages\\pythonsoftwarefoundation.python.3.11_qbz5n2kfra8p0\\localcache\\local-packages\\python311\\site-packages (from aiohttp<4.0.0,>=3.8.3->langchain) (6.0.5)\n",
      "Requirement already satisfied: yarl<2.0,>=1.0 in c:\\users\\agopalan\\appdata\\local\\packages\\pythonsoftwarefoundation.python.3.11_qbz5n2kfra8p0\\localcache\\local-packages\\python311\\site-packages (from aiohttp<4.0.0,>=3.8.3->langchain) (1.9.4)\n",
      "Requirement already satisfied: jsonpatch<2.0,>=1.33 in c:\\users\\agopalan\\appdata\\local\\packages\\pythonsoftwarefoundation.python.3.11_qbz5n2kfra8p0\\localcache\\local-packages\\python311\\site-packages (from langchain-core<0.3.0,>=0.2.30->langchain) (1.33)\n",
      "Requirement already satisfied: packaging<25,>=23.2 in c:\\users\\agopalan\\appdata\\local\\packages\\pythonsoftwarefoundation.python.3.11_qbz5n2kfra8p0\\localcache\\local-packages\\python311\\site-packages (from langchain-core<0.3.0,>=0.2.30->langchain) (24.1)\n",
      "Requirement already satisfied: typing-extensions>=4.7 in c:\\users\\agopalan\\appdata\\local\\packages\\pythonsoftwarefoundation.python.3.11_qbz5n2kfra8p0\\localcache\\local-packages\\python311\\site-packages (from langchain-core<0.3.0,>=0.2.30->langchain) (4.12.2)\n",
      "Requirement already satisfied: orjson<4.0.0,>=3.9.14 in c:\\users\\agopalan\\appdata\\local\\packages\\pythonsoftwarefoundation.python.3.11_qbz5n2kfra8p0\\localcache\\local-packages\\python311\\site-packages (from langsmith<0.2.0,>=0.1.17->langchain) (3.10.7)\n",
      "Requirement already satisfied: annotated-types>=0.4.0 in c:\\users\\agopalan\\appdata\\local\\packages\\pythonsoftwarefoundation.python.3.11_qbz5n2kfra8p0\\localcache\\local-packages\\python311\\site-packages (from pydantic<3,>=1->langchain) (0.7.0)\n",
      "Requirement already satisfied: pydantic-core==2.20.1 in c:\\users\\agopalan\\appdata\\local\\packages\\pythonsoftwarefoundation.python.3.11_qbz5n2kfra8p0\\localcache\\local-packages\\python311\\site-packages (from pydantic<3,>=1->langchain) (2.20.1)\n",
      "Requirement already satisfied: charset-normalizer<4,>=2 in c:\\users\\agopalan\\appdata\\local\\packages\\pythonsoftwarefoundation.python.3.11_qbz5n2kfra8p0\\localcache\\local-packages\\python311\\site-packages (from requests<3,>=2->langchain) (3.3.2)\n",
      "Requirement already satisfied: idna<4,>=2.5 in c:\\users\\agopalan\\appdata\\local\\packages\\pythonsoftwarefoundation.python.3.11_qbz5n2kfra8p0\\localcache\\local-packages\\python311\\site-packages (from requests<3,>=2->langchain) (3.7)\n",
      "Requirement already satisfied: urllib3<3,>=1.21.1 in c:\\users\\agopalan\\appdata\\local\\packages\\pythonsoftwarefoundation.python.3.11_qbz5n2kfra8p0\\localcache\\local-packages\\python311\\site-packages (from requests<3,>=2->langchain) (2.2.2)\n",
      "Requirement already satisfied: certifi>=2017.4.17 in c:\\users\\agopalan\\appdata\\local\\packages\\pythonsoftwarefoundation.python.3.11_qbz5n2kfra8p0\\localcache\\local-packages\\python311\\site-packages (from requests<3,>=2->langchain) (2024.7.4)\n",
      "Requirement already satisfied: greenlet!=0.4.17 in c:\\users\\agopalan\\appdata\\local\\packages\\pythonsoftwarefoundation.python.3.11_qbz5n2kfra8p0\\localcache\\local-packages\\python311\\site-packages (from SQLAlchemy<3,>=1.4->langchain) (3.0.3)\n",
      "Requirement already satisfied: jsonpointer>=1.9 in c:\\users\\agopalan\\appdata\\local\\packages\\pythonsoftwarefoundation.python.3.11_qbz5n2kfra8p0\\localcache\\local-packages\\python311\\site-packages (from jsonpatch<2.0,>=1.33->langchain-core<0.3.0,>=0.2.30->langchain) (3.0.0)\n",
      "Note: you may need to restart the kernel to use updated packages.\n",
      "Requirement already satisfied: azure.ai.formrecognizer in c:\\users\\agopalan\\appdata\\local\\packages\\pythonsoftwarefoundation.python.3.11_qbz5n2kfra8p0\\localcache\\local-packages\\python311\\site-packages (3.3.3)\n",
      "Requirement already satisfied: azure-core>=1.23.0 in c:\\users\\agopalan\\appdata\\local\\packages\\pythonsoftwarefoundation.python.3.11_qbz5n2kfra8p0\\localcache\\local-packages\\python311\\site-packages (from azure.ai.formrecognizer) (1.30.2)\n",
      "Requirement already satisfied: msrest>=0.6.21 in c:\\users\\agopalan\\appdata\\local\\packages\\pythonsoftwarefoundation.python.3.11_qbz5n2kfra8p0\\localcache\\local-packages\\python311\\site-packages (from azure.ai.formrecognizer) (0.7.1)\n",
      "Requirement already satisfied: azure-common>=1.1 in c:\\users\\agopalan\\appdata\\local\\packages\\pythonsoftwarefoundation.python.3.11_qbz5n2kfra8p0\\localcache\\local-packages\\python311\\site-packages (from azure.ai.formrecognizer) (1.1.28)\n",
      "Requirement already satisfied: typing-extensions>=4.0.1 in c:\\users\\agopalan\\appdata\\local\\packages\\pythonsoftwarefoundation.python.3.11_qbz5n2kfra8p0\\localcache\\local-packages\\python311\\site-packages (from azure.ai.formrecognizer) (4.12.2)\n",
      "Requirement already satisfied: requests>=2.21.0 in c:\\users\\agopalan\\appdata\\local\\packages\\pythonsoftwarefoundation.python.3.11_qbz5n2kfra8p0\\localcache\\local-packages\\python311\\site-packages (from azure-core>=1.23.0->azure.ai.formrecognizer) (2.32.3)\n",
      "Requirement already satisfied: six>=1.11.0 in c:\\users\\agopalan\\appdata\\local\\packages\\pythonsoftwarefoundation.python.3.11_qbz5n2kfra8p0\\localcache\\local-packages\\python311\\site-packages (from azure-core>=1.23.0->azure.ai.formrecognizer) (1.16.0)\n",
      "Requirement already satisfied: certifi>=2017.4.17 in c:\\users\\agopalan\\appdata\\local\\packages\\pythonsoftwarefoundation.python.3.11_qbz5n2kfra8p0\\localcache\\local-packages\\python311\\site-packages (from msrest>=0.6.21->azure.ai.formrecognizer) (2024.7.4)\n",
      "Requirement already satisfied: isodate>=0.6.0 in c:\\users\\agopalan\\appdata\\local\\packages\\pythonsoftwarefoundation.python.3.11_qbz5n2kfra8p0\\localcache\\local-packages\\python311\\site-packages (from msrest>=0.6.21->azure.ai.formrecognizer) (0.6.1)\n",
      "Requirement already satisfied: requests-oauthlib>=0.5.0 in c:\\users\\agopalan\\appdata\\local\\packages\\pythonsoftwarefoundation.python.3.11_qbz5n2kfra8p0\\localcache\\local-packages\\python311\\site-packages (from msrest>=0.6.21->azure.ai.formrecognizer) (2.0.0)\n",
      "Requirement already satisfied: charset-normalizer<4,>=2 in c:\\users\\agopalan\\appdata\\local\\packages\\pythonsoftwarefoundation.python.3.11_qbz5n2kfra8p0\\localcache\\local-packages\\python311\\site-packages (from requests>=2.21.0->azure-core>=1.23.0->azure.ai.formrecognizer) (3.3.2)\n",
      "Requirement already satisfied: idna<4,>=2.5 in c:\\users\\agopalan\\appdata\\local\\packages\\pythonsoftwarefoundation.python.3.11_qbz5n2kfra8p0\\localcache\\local-packages\\python311\\site-packages (from requests>=2.21.0->azure-core>=1.23.0->azure.ai.formrecognizer) (3.7)\n",
      "Requirement already satisfied: urllib3<3,>=1.21.1 in c:\\users\\agopalan\\appdata\\local\\packages\\pythonsoftwarefoundation.python.3.11_qbz5n2kfra8p0\\localcache\\local-packages\\python311\\site-packages (from requests>=2.21.0->azure-core>=1.23.0->azure.ai.formrecognizer) (2.2.2)\n",
      "Requirement already satisfied: oauthlib>=3.0.0 in c:\\users\\agopalan\\appdata\\local\\packages\\pythonsoftwarefoundation.python.3.11_qbz5n2kfra8p0\\localcache\\local-packages\\python311\\site-packages (from requests-oauthlib>=0.5.0->msrest>=0.6.21->azure.ai.formrecognizer) (3.2.2)\n",
      "Note: you may need to restart the kernel to use updated packages.\n"
     ]
    }
   ],
   "source": [
    "# Install dependencies\n",
    "# Fixing the import issue of dotenv lib\n",
    "#%pip install dotenv\n",
    "%pip install python-dotenv\n",
    "%pip install langchain\n",
    "%pip install azure.ai.formrecognizer"
   ]
  },
  {
   "cell_type": "markdown",
   "metadata": {},
   "source": [
    "### Load credentials\n",
    "Next we load the environment variables needed by the following cells from the `.env` file."
   ]
  },
  {
   "cell_type": "code",
   "execution_count": 8,
   "metadata": {},
   "outputs": [
    {
     "name": "stdout",
     "output_type": "stream",
     "text": [
      "blob endpoint=\n"
     ]
    }
   ],
   "source": [
    "# Load credentials\n",
    "import os\n",
    "from dotenv import load_dotenv\n",
    "# fixing the env file\n",
    "load_dotenv()\n",
    "\n",
    "# fixing the code error\n",
    "#print(f\"blob endpoint={os.getenv(\"BLOB_ENDPOINT\")}\")\n",
    "print(f\"blob endpoint={os.getenv('BLOB_ENDPOINT')}\")"
   ]
  },
  {
   "cell_type": "markdown",
   "metadata": {},
   "source": [
    "### Set execution parameters\n",
    "Set the name of the file you uploaded to the blob container (that we are going to chunk) and the container name. The filename is joined with the blob endpoint, container name, and SAS token to create a url to the file. You can also adjust the `chunk_size` and `chunk_overlap` to see their effect on the output later, or leave the defaults."
   ]
  },
  {
   "cell_type": "code",
   "execution_count": 9,
   "metadata": {},
   "outputs": [
    {
     "name": "stdout",
     "output_type": "stream",
     "text": [
      "file url=data/employee_handbook.pdf?\n"
     ]
    }
   ],
   "source": [
    "## The name of the file you uploaded to your Blob Storage Datasource\n",
    "file_name=\"employee_handbook.pdf\"\n",
    "\n",
    "# Name of the container in your Blob Storage Datasource (in credentials.env)\n",
    "blob_container_name = \"data\"\n",
    "\n",
    "file_sas=os.getenv(\"BLOB_SAS\")\n",
    "file_url=os.getenv(\"BLOB_ENDPOINT\") + blob_container_name + \"/\" + file_name + \"?\" + file_sas\n",
    "\n",
    "print(f\"file url={file_url}\")\n",
    "\n",
    "# You can play with these parameters to see how they affect the output\n",
    "my_chunk_size = 500\n",
    "my_chunk_overlap = 100"
   ]
  },
  {
   "cell_type": "markdown",
   "metadata": {},
   "source": [
    "### Read the file in with Document Intelligence\n",
    "[Azure AI Document Intelligence](https://learn.microsoft.com/en-us/azure/ai-services/document-intelligence/overview?view=doc-intel-4.0.0) is a cloud-based Azure AI service that enables you to build intelligent document processing solutions. Massive amounts of data, spanning a wide variety of data types, are stored in forms and documents. Document Intelligence enables you to effectively manage the velocity at which data is collected and processed and is key to improved operations, informed data-driven decisions, and enlightened innovation.\n",
    "\n",
    "This cell creates a `DocumentAnalysisClient` object using the settings in the credentials file. It then defines some helper functions to do things like converting tables to HTML.\n",
    "\n",
    "The main part of the code calls the *DocumentAnalysisClient* `begin_analyze_document_from_url` method to analyse the file using the pre-defined `layout` [model](https://learn.microsoft.com/en-gb/azure/ai-services/document-intelligence/concept-layout?view=doc-intel-4.0.0&tabs=sample-code). The output of the DocumentAnalysisClient call is then parsed and converted into HTML formatted *pages*, while keeping track of paragraph and table roles and positions."
   ]
  },
  {
   "cell_type": "code",
   "execution_count": 4,
   "metadata": {},
   "outputs": [
    {
     "ename": "SyntaxError",
     "evalue": "f-string: unmatched '(' (3700387531.py, line 9)",
     "output_type": "error",
     "traceback": [
      "\u001b[1;36m  Cell \u001b[1;32mIn[4], line 9\u001b[1;36m\u001b[0m\n\u001b[1;33m    print(f\"form recognizer={os.getenv(\"FORM_RECOGNIZER_ENDPOINT\")}\")\u001b[0m\n\u001b[1;37m                                        ^\u001b[0m\n\u001b[1;31mSyntaxError\u001b[0m\u001b[1;31m:\u001b[0m f-string: unmatched '('\n"
     ]
    }
   ],
   "source": [
    "#code\\backend\\batch\\utilities\\helpers\\azure_form_recognizer_helper.py\n",
    "\n",
    "from azure.core.credentials import AzureKeyCredential\n",
    "from azure.ai.formrecognizer import DocumentAnalysisClient\n",
    "import html\n",
    "import traceback\n",
    "\n",
    "\n",
    "print(f\"form recognizer={os.getenv(\"FORM_RECOGNIZER_ENDPOINT\")}\")\n",
    "\n",
    "document_analysis_client = DocumentAnalysisClient(\n",
    "    endpoint=os.getenv(\"FORM_RECOGNIZER_ENDPOINT\"), \n",
    "    credential=AzureKeyCredential(os.getenv(\"FORM_RECOGNIZER_KEY\"))\n",
    ")\n",
    "\n",
    "form_recognizer_role_to_html = {\n",
    "    \"title\": \"h1\",\n",
    "    \"sectionHeading\": \"h2\",\n",
    "    \"pageHeader\": None,\n",
    "    \"pageFooter\": None,\n",
    "    \"paragraph\": \"p\",\n",
    "}\n",
    "\n",
    "def _table_to_html(table):\n",
    "    table_html = \"<table>\"\n",
    "    rows = [\n",
    "        sorted(\n",
    "            [cell for cell in table.cells if cell.row_index == i],\n",
    "            key=lambda cell: cell.column_index,\n",
    "        )\n",
    "        for i in range(table.row_count)\n",
    "    ]\n",
    "    for row_cells in rows:\n",
    "        table_html += \"<tr>\"\n",
    "        for cell in row_cells:\n",
    "            tag = (\n",
    "                \"th\"\n",
    "                if (cell.kind == \"columnHeader\" or cell.kind == \"rowHeader\")\n",
    "                else \"td\"\n",
    "            )\n",
    "            cell_spans = \"\"\n",
    "            if cell.column_span > 1:\n",
    "                cell_spans += f\" colSpan={cell.column_span}\"\n",
    "            if cell.row_span > 1:\n",
    "                cell_spans += f\" rowSpan={cell.row_span}\"\n",
    "            table_html += f\"<{tag}{cell_spans}>{html.escape(cell.content)}</{tag}>\"\n",
    "        table_html += \"</tr>\"\n",
    "    table_html += \"</table>\"\n",
    "    return table_html\n",
    "\n",
    "\n",
    "offset = 0\n",
    "page_map = []\n",
    "model_id = \"prebuilt-layout\"\n",
    "\n",
    "try:\n",
    "    poller = document_analysis_client.begin_analyze_document_from_url(\n",
    "        model_id, document_url=file_url\n",
    "    )\n",
    "    form_recognizer_results = poller.result()\n",
    "\n",
    "    roles_start = {}\n",
    "    roles_end = {}\n",
    "    for paragraph in form_recognizer_results.paragraphs:\n",
    "        # if paragraph.role!=None:\n",
    "        para_start = paragraph.spans[0].offset\n",
    "        para_end = paragraph.spans[0].offset + paragraph.spans[0].length\n",
    "        roles_start[para_start] = (\n",
    "            paragraph.role if paragraph.role is not None else \"paragraph\"\n",
    "        )\n",
    "        roles_end[para_end] = (\n",
    "            paragraph.role if paragraph.role is not None else \"paragraph\"\n",
    "        )\n",
    "\n",
    "    for page_num, page in enumerate(form_recognizer_results.pages):\n",
    "        tables_on_page = [\n",
    "            table\n",
    "            for table in form_recognizer_results.tables\n",
    "            if table.bounding_regions[0].page_number == page_num + 1\n",
    "        ]\n",
    "\n",
    "        # (if using layout) mark all positions of the table spans in the page\n",
    "        page_offset = page.spans[0].offset\n",
    "        page_length = page.spans[0].length\n",
    "        table_chars = [-1] * page_length\n",
    "        for table_id, table in enumerate(tables_on_page):\n",
    "            for span in table.spans:\n",
    "                # replace all table spans with \"table_id\" in table_chars array\n",
    "                for i in range(span.length):\n",
    "                    idx = span.offset - page_offset + i\n",
    "                    if idx >= 0 and idx < page_length:\n",
    "                        table_chars[idx] = table_id\n",
    "\n",
    "        # build page text by replacing charcters in table spans with table html and replace the characters corresponding to headers with html headers, if using layout\n",
    "        page_text = \"\"\n",
    "        added_tables = set()\n",
    "        for idx, table_id in enumerate(table_chars):\n",
    "            if table_id == -1:\n",
    "                position = page_offset + idx\n",
    "                if position in roles_start.keys():\n",
    "                    role = roles_start[position]\n",
    "                    html_role = form_recognizer_role_to_html.get(role)\n",
    "                    if html_role is not None:\n",
    "                        page_text += f\"<{html_role}>\"\n",
    "                if position in roles_end.keys():\n",
    "                    role = roles_end[position]\n",
    "                    html_role = form_recognizer_role_to_html.get(role)\n",
    "                    if html_role is not None:\n",
    "                        page_text += f\"</{html_role}>\"\n",
    "\n",
    "                page_text += form_recognizer_results.content[page_offset + idx]\n",
    "\n",
    "            elif table_id not in added_tables:\n",
    "                page_text += _table_to_html(tables_on_page[table_id])\n",
    "                added_tables.add(table_id)\n",
    "\n",
    "        page_text += \" \"\n",
    "        page_map.append(\n",
    "            {\"page_number\": page_num, \"offset\": offset, \"page_text\": page_text}\n",
    "        )\n",
    "        offset += len(page_text)\n",
    "\n",
    "    print(f\"page map={page_map}\")\n",
    "\n",
    "except Exception as e:\n",
    "    raise ValueError(f\"Error: {traceback.format_exc()}. Error: {e}\")"
   ]
  },
  {
   "cell_type": "markdown",
   "metadata": {},
   "source": [
    "### Parse into a document object\n",
    "The following cell takes the *page_map* created in the previous cell and builds a list of `SourceDocument` objects, one for each page in the page_map, which are used to simplify the next phase of processing. "
   ]
  },
  {
   "cell_type": "code",
   "execution_count": null,
   "metadata": {},
   "outputs": [],
   "source": [
    "#code\\backend\\batch\\utilities\\document_loading\\layout.py\n",
    "\n",
    "from SourceDocument import SourceDocument\n",
    "\n",
    "pages_content = page_map\n",
    "\n",
    "documents = [\n",
    "    SourceDocument(\n",
    "        content=page[\"page_text\"],\n",
    "        source=file_url,\n",
    "        offset=page[\"offset\"],\n",
    "        page_number=page[\"page_number\"],\n",
    "    )\n",
    "    for page in pages_content\n",
    "    ]"
   ]
  },
  {
   "cell_type": "markdown",
   "metadata": {},
   "source": [
    "### Chunk the document\n",
    "The following cell splits the contents of the entire document into chunks based on the parameters set in the earlier cell using [LangChain text splitters](https://python.langchain.com/v0.1/docs/modules/data_connection/document_transformers/). A final list `chunked_documents` contains `SourceDocument` objects with the specified chunk_size and chunk_overlap. "
   ]
  },
  {
   "cell_type": "code",
   "execution_count": null,
   "metadata": {},
   "outputs": [],
   "source": [
    "#code\\backend\\batch\\utilities\\document_chunking\\layout.py\n",
    "\n",
    "from typing import List\n",
    "from langchain.text_splitter import MarkdownTextSplitter\n",
    "\n",
    "# Combine all pages into a single document\n",
    "full_document_content = \"\".join(\n",
    "    list(map(lambda document: document.content, documents))\n",
    ")\n",
    "\n",
    "# Split the document into chunks\n",
    "document_url = documents[0].source\n",
    "splitter = MarkdownTextSplitter.from_tiktoken_encoder(\n",
    "    chunk_size=my_chunk_size, chunk_overlap=my_chunk_overlap\n",
    ")\n",
    "chunked_content_list = splitter.split_text(full_document_content)\n",
    "\n",
    "# Create a list of SourceDocuments from the chunked content\n",
    "chunked_documents = []\n",
    "chunk_offset = 0\n",
    "for idx, chunked_content in enumerate(chunked_content_list):\n",
    "    chunked_documents.append(\n",
    "        SourceDocument.from_metadata(\n",
    "            content=chunked_content,\n",
    "            document_url=document_url,\n",
    "            metadata={\"offset\": chunk_offset},\n",
    "            idx=idx,\n",
    "        )\n",
    "    )\n",
    "\n",
    "    # Print each chunk\n",
    "    print(f\"offset={chunk_offset}\")\n",
    "    print(f\"chunk={idx}: {chunked_content}\\n\")\n",
    "\n",
    "    chunk_offset += len(chunked_content)\n",
    "\n",
    "#\"chunked_documents\" variable contains the list of documents split into chunks"
   ]
  }
 ],
 "metadata": {
  "kernelspec": {
   "display_name": "Python 3",
   "language": "python",
   "name": "python3"
  },
  "language_info": {
   "codemirror_mode": {
    "name": "ipython",
    "version": 3
   },
   "file_extension": ".py",
   "mimetype": "text/x-python",
   "name": "python",
   "nbconvert_exporter": "python",
   "pygments_lexer": "ipython3",
   "version": "3.11.9"
  }
 },
 "nbformat": 4,
 "nbformat_minor": 2
}
