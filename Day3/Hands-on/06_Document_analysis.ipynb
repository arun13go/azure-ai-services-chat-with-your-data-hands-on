{
 "cells": [
  {
   "cell_type": "markdown",
   "metadata": {},
   "source": [
    "# Document Analysis\n",
    "Compare two document with version difference"
   ]
  },
  {
   "cell_type": "markdown",
   "metadata": {},
   "source": [
    "### 1. Install required libraries"
   ]
  },
  {
   "cell_type": "code",
   "execution_count": null,
   "metadata": {},
   "outputs": [],
   "source": [
    "%pip install azure-storage-blob azure-ai-formrecognizer azure-identity openai"
   ]
  },
  {
   "cell_type": "markdown",
   "metadata": {},
   "source": [
    "### 2. Import helper libraries and load credentials from .env file"
   ]
  },
  {
   "cell_type": "code",
   "execution_count": 16,
   "metadata": {},
   "outputs": [
    {
     "data": {
      "text/plain": [
       "True"
      ]
     },
     "execution_count": 16,
     "metadata": {},
     "output_type": "execute_result"
    }
   ],
   "source": [
    "import os\n",
    "from openai import AzureOpenAI\n",
    "import numpy as np\n",
    "from dotenv import load_dotenv\n",
    "load_dotenv()"
   ]
  },
  {
   "cell_type": "markdown",
   "metadata": {},
   "source": [
    "### 2. Create DocumentComparisonController class \n",
    "Designed to compare two PDF documents using Azure Form Recognizer and Azure OpenAI services. It extracts text content from the documents and uses OpenAI to analyze and compare the documents based on a user-provided prompt."
   ]
  },
  {
   "cell_type": "code",
   "execution_count": 22,
   "metadata": {},
   "outputs": [
    {
     "name": "stdout",
     "output_type": "stream",
     "text": [
      "result-----> {'PdfUrl1': 'https://ukhosampledocs.blob.core.windows.net/docs/20200515 TEMPLATE New Port Agreement (with Tidal Licence).pdf', 'PdfUrl2': 'https://ukhosampledocs.blob.core.windows.net/docs/Cleowent Agreement with Tidal Licence - 03.01.2012.pdf', 'Message': \"Sure! Here's a comparison table highlighting the similarities and differences between the two documents:\\n\\n| Similarities | Differences |\\n|--------------|-------------|\\n| Purpose: Both agreements are entered into for the mutual benefit of the UK Hydrographic Office (UKHO) and the respective port/harbour commissions (CHC and Cleowent Harbour Commission) |\\n| Exchange of Materials: Both agreements outline the exchange of hydrographic surveys, data, and related information between the parties |\\n| Use of Material: Both agreements grant the UKHO a license to use and reproduce the material supplied by the port/harbour commissions in the UKHO's products |\\n| Licensing: Both agreements allow for the sub-licensing of intellectual property by the UKHO to other organizations |\\n| Liability: Both agreements outline the liability for the materials supplied by one party to the other |\\n| Termination: Both agreements can be terminated by either party giving notice in writing |\\n| Definitions: Both agreements provide a list of defined terms |\\n| Appendix 1: Both agreements include an appendix with abbreviations and definitions |\\n| Appendix 2: Both agreements include an appendix outlining the exchange of materials |\\n| Appendix 3: Both agreements include an appendix with a copyright license agreement |\\n| Custodian: Both agreements specify the custodian of the agreement on behalf of each party |\\n| Communications: Both agreements specify the addresses for communications between the parties |\\n| Signatories: Both agreements include signatures from representatives of each party |\\n\\nPlease note that the specific details and terms may vary between the two agreements, so it's important to refer to the actual documents for complete accuracy.\"}\n"
     ]
    }
   ],
   "source": [
    "from azure.storage.blob import BlobServiceClient, generate_blob_sas, BlobSasPermissions\n",
    "from azure.ai.formrecognizer import DocumentAnalysisClient\n",
    "from azure.core.credentials import AzureKeyCredential\n",
    "from openai import AzureOpenAI\n",
    "import datetime\n",
    "\n",
    "class DocumentComparisonController:\n",
    "    def __init__(self):\n",
    "        self.FormRecogEndpoint = os.environ['FORM_RECOGNIZER_ENDPOINT']\n",
    "        self.FormRecogSubscriptionKey = os.environ['FORM_RECOGNIZER_KEY']\n",
    "        self.AOAIendpoint = os.environ['OPENAI_API_ENDPOINT']\n",
    "        self.AOAIsubscriptionKey = os.environ['OPENAI_API_KEY']\n",
    "        self.AOAIDeploymentName = os.environ['DEPLOYMENT_NAME']\n",
    "        self.model = {}\n",
    "\n",
    "        #self.storageconnstring = os.environ['BLOB_SAS']  \n",
    "        #blob_service_client = BlobServiceClient.from_connection_string(self.storageconnstring)\n",
    "        #self.container_client = blob_service_client.get_container_client(os.environ['BLOB_CONTAINER_NAME'])\n",
    "        #self.sas_uri = self.generate_sas_uri()\n",
    "        #self.sas_uri = os.environ['BLOB_SAS_URL']\n",
    "\n",
    "\n",
    "    # def generate_sas_uri(self):\n",
    "    #     sas_token = generate_blob_sas(\n",
    "    #         account_name=self.container_client.account_name,\n",
    "    #         container_name=self.container_client.container_name,\n",
    "    #         account_key=self.container_client.credential.account_key,\n",
    "    #         permission=BlobSasPermissions(read=True),\n",
    "    #         expiry=datetime.datetime.utcnow() + datetime.timedelta(hours=1)\n",
    "    #     )\n",
    "    #     return f\"https://{self.container_client.account_name}.blob.core.windows.net/{self.container_client.container_name}?{sas_token}\"\n",
    "\n",
    "    def document_comparison_post(self, document_urls, prompt):\n",
    "        self.model['PdfUrl1'] = document_urls[0]\n",
    "        self.model['PdfUrl2'] = document_urls[1]\n",
    "        # self.model['PdfUrl1'] = document_urls[0] + self.sas_uri\n",
    "        # self.model['PdfUrl2'] = document_urls[1] + self.sas_uri\n",
    "        # self.model['tabName1'] = tab_names[0]\n",
    "        # self.model['tabName2'] = tab_names[1]\n",
    "\n",
    "        output_result = [\"\", \"\"]\n",
    "\n",
    "        # Call AI Doc Intelligence service\n",
    "        for i, url in enumerate(document_urls):\n",
    "            client = DocumentAnalysisClient(endpoint=self.FormRecogEndpoint, credential=AzureKeyCredential(self.FormRecogSubscriptionKey))\n",
    "            poller = client.begin_analyze_document_from_url(\"prebuilt-layout\", url)\n",
    "            result = poller.result()\n",
    "            output_result[i] = result.content\n",
    "\n",
    "        try:\n",
    "            aoai_client = AzureOpenAI(\n",
    "             azure_endpoint=os.environ['OPENAI_API_ENDPOINT'],\n",
    "             api_key=os.environ['OPENAI_API_KEY'],  # this is also the default, it can be omitted\n",
    "             api_version='2023-05-15',\n",
    "             )\n",
    "\n",
    "            messages = [\n",
    "                {\"role\": \"system\", \"content\": f\"You are specialized in analyzing different versions of the same PDF document. The first Document OCR result is: <<<{output_result[0]}>>> and the second Document OCR result is: <<<{output_result[1]}>>>\"},\n",
    "                {\"role\": \"user\", \"content\": f\"User question: {prompt}\"}\n",
    "            ]\n",
    "            # Call OpenAI service\n",
    "            response = aoai_client.chat.completions.create(\n",
    "                model=self.AOAIDeploymentName,\n",
    "                messages=messages,\n",
    "                max_tokens=1000,\n",
    "                temperature=0.7,\n",
    "                frequency_penalty=0,\n",
    "                presence_penalty=0,\n",
    "                top_p=0.95\n",
    "            )\n",
    "\n",
    "            self.model['Message'] = response.choices[0].message.content\n",
    "        except Exception as e:\n",
    "            raise e\n",
    "\n",
    "        return self.model\n",
    "\n",
    "controller = DocumentComparisonController()\n",
    "\n",
    "# Example usage\n",
    "doc_url1 =\"https://ukhosampledocs.blob.core.windows.net/docs/20200515 TEMPLATE New Port Agreement (with Tidal Licence).pdf\"\n",
    "doc_url2 =\"https://ukhosampledocs.blob.core.windows.net/docs/Cleowent Agreement with Tidal Licence - 03.01.2012.pdf\"\n",
    "document_urls = [doc_url1, doc_url2]\n",
    "# tab_names = [\"Tab1\", \"Tab2\"]\n",
    "prompt = \"Compare the documents and provide similary and difference as table format\"\n",
    "\n",
    "result = controller.document_comparison_post(document_urls, prompt)\n",
    "print(\"result----->\",result)"
   ]
  }
 ],
 "metadata": {
  "kernelspec": {
   "display_name": "Python 3",
   "language": "python",
   "name": "python3"
  },
  "language_info": {
   "codemirror_mode": {
    "name": "ipython",
    "version": 3
   },
   "file_extension": ".py",
   "mimetype": "text/x-python",
   "name": "python",
   "nbconvert_exporter": "python",
   "pygments_lexer": "ipython3",
   "version": "3.11.9"
  }
 },
 "nbformat": 4,
 "nbformat_minor": 2
}
