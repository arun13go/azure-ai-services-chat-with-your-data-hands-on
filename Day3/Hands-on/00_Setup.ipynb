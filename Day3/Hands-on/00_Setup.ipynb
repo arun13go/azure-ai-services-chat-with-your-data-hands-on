{
 "cells": [
  {
   "cell_type": "markdown",
   "metadata": {},
   "source": [
    "# Setup\n",
    "In order to execute these notebooks:\n",
    "\n",
    "### In Azure\n",
    "1. Create a Document Intelligence service. (Doc link please)\n",
    "2. Create a storage account.(Doc link please)\n",
    "    1. Create a container called *data* in the `Container` blade.\n",
    "    2. Create a `Shared access token` for the container by clicking on the newly created container, selecting the `Shared access tokens` blade, adjusting the expiry date, and Clicking the *Generate SAS token and URL* button. \n",
    "    3. Copy the created SAS token for use in the next section.\n",
    "3. Upload some files to chunk into your container by clicking on the newly created container and selecting the `Upload` button in the ribbon.\n",
    "\n",
    "### Set up AML workspace\n",
    "(provide instrcution to set up AML workspace along with docs and provide link to Day 2)\n",
    "\n",
    "### Create .env file which stores credentials\n",
    "1. Log into AML Workspace and create compute instance (doc link to how to create instance) with schedule\n",
    "2. Start the compute instance and log in to terminal to create .env file and copy the .env file content from the github hands on execrise\n",
    "3. Update the all key and valus (provide the details) \n",
    "Update the `FORM_RECOGNIZER_ENDPOINT` and `FORM_RECOGNIZER_KEY` settings, getting the values from the `Keys and Endpoint` blade in the *Document Intelligence* service in the Azure portal.\n",
    "4. Update the `BLOB_ENDPOINT` setting, getting the value from the `Endpoints` blade in the *Storage account* service in the Azure portal.\n",
    "5. Update the `BLOB_SAS` setting, using the value copied when creating a SAS token in the previous section."
   ]
  },
  {
   "cell_type": "markdown",
   "metadata": {},
   "source": [
    "> NOTE: Creating these services may incur Azure usage costs."
   ]
  }
 ],
 "metadata": {
  "language_info": {
   "name": "python"
  }
 },
 "nbformat": 4,
 "nbformat_minor": 2
}
