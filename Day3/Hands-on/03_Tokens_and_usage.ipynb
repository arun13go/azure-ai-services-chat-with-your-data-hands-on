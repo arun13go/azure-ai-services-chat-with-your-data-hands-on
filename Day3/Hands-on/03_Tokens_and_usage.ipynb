{
  "cells": [
    {
      "cell_type": "markdown",
      "source": [
        "### 1. Install tiktoken python library"
      ],
      "metadata": {
        "nteract": {
          "transient": {
            "deleting": false
          }
        }
      }
    },
    {
      "cell_type": "code",
      "source": [
        "%pip install tiktoken"
      ],
      "outputs": [
        {
          "output_type": "stream",
          "name": "stdout",
          "text": "Collecting tiktoken\n  Downloading tiktoken-0.7.0-cp39-cp39-manylinux_2_17_x86_64.manylinux2014_x86_64.whl.metadata (6.6 kB)\nCollecting regex>=2022.1.18 (from tiktoken)\n  Downloading regex-2024.5.15-cp39-cp39-manylinux_2_17_x86_64.manylinux2014_x86_64.whl.metadata (40 kB)\n\u001b[2K     \u001b[90m━━━━━━━━━━━━━━━━━━━━━━━━━━━━━━━━━━━━━━━━\u001b[0m \u001b[32m40.9/40.9 kB\u001b[0m \u001b[31m2.7 MB/s\u001b[0m eta \u001b[36m0:00:00\u001b[0m\n\u001b[?25hRequirement already satisfied: requests>=2.26.0 in /anaconda/envs/jupyter_env/lib/python3.9/site-packages (from tiktoken) (2.32.3)\nRequirement already satisfied: charset-normalizer<4,>=2 in /anaconda/envs/jupyter_env/lib/python3.9/site-packages (from requests>=2.26.0->tiktoken) (3.3.2)\nRequirement already satisfied: idna<4,>=2.5 in /anaconda/envs/jupyter_env/lib/python3.9/site-packages (from requests>=2.26.0->tiktoken) (3.7)\nRequirement already satisfied: urllib3<3,>=1.21.1 in /anaconda/envs/jupyter_env/lib/python3.9/site-packages (from requests>=2.26.0->tiktoken) (2.2.1)\nRequirement already satisfied: certifi>=2017.4.17 in /anaconda/envs/jupyter_env/lib/python3.9/site-packages (from requests>=2.26.0->tiktoken) (2024.6.2)\nDownloading tiktoken-0.7.0-cp39-cp39-manylinux_2_17_x86_64.manylinux2014_x86_64.whl (1.1 MB)\n\u001b[2K   \u001b[90m━━━━━━━━━━━━━━━━━━━━━━━━━━━━━━━━━━━━━━━━\u001b[0m \u001b[32m1.1/1.1 MB\u001b[0m \u001b[31m27.6 MB/s\u001b[0m eta \u001b[36m0:00:00\u001b[0m00:01\u001b[0m\n\u001b[?25hDownloading regex-2024.5.15-cp39-cp39-manylinux_2_17_x86_64.manylinux2014_x86_64.whl (774 kB)\n\u001b[2K   \u001b[90m━━━━━━━━━━━━━━━━━━━━━━━━━━━━━━━━━━━━━━━━\u001b[0m \u001b[32m774.6/774.6 kB\u001b[0m \u001b[31m31.2 MB/s\u001b[0m eta \u001b[36m0:00:00\u001b[0m\n\u001b[?25hInstalling collected packages: regex, tiktoken\nSuccessfully installed regex-2024.5.15 tiktoken-0.7.0\nNote: you may need to restart the kernel to use updated packages.\n"
        }
      ],
      "execution_count": 2,
      "metadata": {
        "jupyter": {
          "source_hidden": false,
          "outputs_hidden": false
        },
        "nteract": {
          "transient": {
            "deleting": false
          }
        }
      }
    },
    {
      "attachments": {},
      "cell_type": "markdown",
      "source": [
        "### 2.  Count the number of Tokens for given sentence"
      ],
      "metadata": {}
    },
    {
      "cell_type": "code",
      "source": [
        "import re\n",
        "import requests\n",
        "import sys\n",
        "import os\n",
        "from openai import AzureOpenAI\n",
        "import tiktoken\n",
        "from dotenv import load_dotenv\n",
        "load_dotenv()\n",
        "\n",
        "client = AzureOpenAI(\n",
        "  azure_endpoint = os.getenv(\"AZURE_OPENAI_ENDPOINT\"), \n",
        "  api_key=os.getenv(\"AZURE_OPENAI_KEY\"),  \n",
        "  #api_version=\"2024-02-15-preview\"\n",
        "  api_version='2023-05-15',\n",
        ")\n",
        "\n",
        "# set the model deployment name\n",
        "model = 'gpt-4o'\n",
        "\n",
        "CHAT_COMPLETIONS_MODEL = model\n",
        "\n",
        "encoding=tiktoken.encoding_for_model(\"gpt-3.5-turbo\")\n",
        "prompt = \"Azure OpenAI service is General Available now!\"\n",
        "tokens = encoding.encode(prompt)\n",
        "print('Total number of tokens:', len(tokens))\n",
        "print('Tokens :', tokens)\n",
        "print('Words : ', [encoding.decode([t]) for t in tokens])"
      ],
      "outputs": [
        {
          "output_type": "stream",
          "name": "stdout",
          "text": "Total number of tokens: 9\nTokens : [79207, 5377, 15836, 2532, 374, 3331, 16528, 1457, 0]\nWords :  ['Azure', ' Open', 'AI', ' service', ' is', ' General', ' Available', ' now', '!']\n"
        }
      ],
      "execution_count": 1,
      "metadata": {
        "gather": {
          "logged": 1720819259066
        }
      }
    },
    {
      "cell_type": "code",
      "source": [
        "response = client.chat.completions.create(\n",
        "  model=CHAT_COMPLETIONS_MODEL,\n",
        "  messages = [{\"role\":\"system\", \"content\":\"You are a helpful assistant.\"},\n",
        "               {\"role\":\"user\",\"content\": prompt}],\n",
        "    max_tokens=60,\n",
        "    n=2,\n",
        ")"
      ],
      "outputs": [],
      "execution_count": 2,
      "metadata": {
        "gather": {
          "logged": 1720819270074
        }
      }
    },
    {
      "attachments": {},
      "cell_type": "markdown",
      "source": [
        "### 2. Show 2 returned results"
      ],
      "metadata": {}
    },
    {
      "cell_type": "code",
      "source": [
        "print('='*30, 'ANSWER #1', '='*30)\n",
        "print(response.choices[0].message.content)\n",
        "print('='*30, 'ANSWER #2', '='*30)\n",
        "print(response.choices[1].message.content)\n"
      ],
      "outputs": [
        {
          "output_type": "stream",
          "name": "stdout",
          "text": "============================== ANSWER #1 ==============================\nThat's great news! The General Availability of the Azure OpenAI Service means it is now accessible for production workloads, offering businesses and developers robust AI capabilities powered by OpenAI models. This service allows users to integrate advanced natural language processing and understanding into their applications, leveraging models such as GPT-3. What\n============================== ANSWER #2 ==============================\nThat's great news! The General Availability (GA) of Azure OpenAI Service means it's now widely available for use, with reliable support and service level agreements from Microsoft. Azure OpenAI Service allows developers to harness the power of OpenAI's advanced language models, such as GPT-3, via the Azure\n"
        }
      ],
      "execution_count": 3,
      "metadata": {
        "gather": {
          "logged": 1720819305214
        }
      }
    },
    {
      "attachments": {},
      "cell_type": "markdown",
      "source": [
        "# Usage"
      ],
      "metadata": {}
    },
    {
      "cell_type": "code",
      "source": [
        "response.usage"
      ],
      "outputs": [
        {
          "output_type": "execute_result",
          "execution_count": 4,
          "data": {
            "text/plain": "CompletionUsage(completion_tokens=120, prompt_tokens=26, total_tokens=146)"
          },
          "metadata": {}
        }
      ],
      "execution_count": 4,
      "metadata": {
        "gather": {
          "logged": 1720819342462
        }
      }
    },
    {
      "cell_type": "code",
      "source": [],
      "outputs": [],
      "execution_count": null,
      "metadata": {}
    }
  ],
  "metadata": {
    "kernelspec": {
      "name": "python3",
      "language": "python",
      "display_name": "Python 3 (ipykernel)"
    },
    "language_info": {
      "name": "python",
      "version": "3.9.18",
      "mimetype": "text/x-python",
      "codemirror_mode": {
        "name": "ipython",
        "version": 3
      },
      "pygments_lexer": "ipython3",
      "nbconvert_exporter": "python",
      "file_extension": ".py"
    },
    "orig_nbformat": 4,
    "vscode": {
      "interpreter": {
        "hash": "2139c70ac98f3202d028164a545621647e07f47fd6f5d8ac55cf952bf7c15ed1"
      }
    },
    "microsoft": {
      "ms_spell_check": {
        "ms_spell_check_language": "en"
      }
    },
    "kernel_info": {
      "name": "python3"
    },
    "nteract": {
      "version": "nteract-front-end@1.0.0"
    }
  },
  "nbformat": 4,
  "nbformat_minor": 2
}