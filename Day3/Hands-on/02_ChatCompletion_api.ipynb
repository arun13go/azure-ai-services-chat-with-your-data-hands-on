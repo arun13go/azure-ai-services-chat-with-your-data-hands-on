{
  "cells": [
    {
      "cell_type": "markdown",
      "source": [
        "## Overview\n",
        "This notebook helps you to understand and chat with Azure OpenAI API to explore its capabilities."
      ],
      "metadata": {}
    },
    {
      "cell_type": "markdown",
      "source": [
        "### 1. Import helper libraries and instantiate credentials"
      ],
      "metadata": {
        "nteract": {
          "transient": {
            "deleting": false
          }
        }
      }
    },
    {
      "cell_type": "code",
      "source": [
        "import re\n",
        "import requests\n",
        "import sys\n",
        "import os\n",
        "from openai import AzureOpenAI\n",
        "from dotenv import load_dotenv\n",
        "load_dotenv()\n",
        "\n",
        "client = AzureOpenAI(\n",
        "  azure_endpoint = os.getenv(\"OPENAI_API_ENDPOINT\"), \n",
        "  api_key=os.getenv(\"OPENAI_API_KEY\"),  \n",
        "  #api_version=\"2024-02-15-preview\"\n",
        "  api_version='2023-05-15',\n",
        ")\n",
        "# set the model deployment name\n",
        "model = os.getenv(\"GPT4_MODEL_NAME\")"
      ],
      "outputs": [],
      "execution_count": 7,
      "metadata": {
        "gather": {
          "logged": 1726570633267
        }
      }
    },
    {
      "cell_type": "markdown",
      "source": [
        "### 2. Chat with Model to ask generic question"
      ],
      "metadata": {
        "nteract": {
          "transient": {
            "deleting": false
          }
        }
      }
    },
    {
      "cell_type": "code",
      "source": [
        "prompt = \"\"\"Answer the question as truthfully as possible, and if you're unsure of the answer, say \"Sorry, I don't know\".\n",
        "\n",
        "Q: Who won the 2020 Summer Olympics men's high jump?\n",
        "A:\"\"\"\n",
        "message_text = [{\"role\":\"system\",\"content\":prompt}]\n",
        "\n",
        "response = client.chat.completions.create(\n",
        "  model=model,\n",
        "  messages = message_text,\n",
        ")\n",
        "\n",
        "response.choices[0].message.content"
      ],
      "outputs": [
        {
          "output_type": "execute_result",
          "execution_count": 8,
          "data": {
            "text/plain": "\"The men's high jump event at the Tokyo 2020 Summer Olympics, which took place in 2021 due to the COVID-19 pandemic, ended in a historic shared gold medal between Mutaz Essa Barshim of Qatar and Gianmarco Tamberi of Italy. Both high jumpers cleared 2.37 meters and decided to share the gold medal instead of going into a jump-off to break the tie.\""
          },
          "metadata": {}
        }
      ],
      "execution_count": 8,
      "metadata": {
        "gather": {
          "logged": 1726570666669
        }
      }
    },
    {
      "cell_type": "markdown",
      "source": [
        "### 3. Ask the Model to classify the sentiment"
      ],
      "metadata": {
        "nteract": {
          "transient": {
            "deleting": false
          }
        }
      }
    },
    {
      "cell_type": "code",
      "source": [
        "prompt = \"\"\"Decide whether the following customer feedback is positive or negative.\n",
        "\n",
        "Q: I was disappointed with the quality of the product. It was very cheaply made and did not meet my expectations at all.\n",
        "Q: I was happy with this product, it is well made and great quality for the price.\n",
        "\"\"\"\n",
        "\n",
        "message_text = [{\"role\":\"system\",\"content\":prompt}]\n",
        "\n",
        "response = client.chat.completions.create(\n",
        "  model=model,\n",
        "  messages = message_text,\n",
        ")\n",
        "\n",
        "response.choices[0].message.content"
      ],
      "outputs": [
        {
          "output_type": "execute_result",
          "execution_count": 9,
          "data": {
            "text/plain": "'The first customer feedback is negative.\\nThe second customer feedback is positive.'"
          },
          "metadata": {}
        }
      ],
      "execution_count": 9,
      "metadata": {
        "gather": {
          "logged": 1726570724649
        }
      }
    },
    {
      "cell_type": "markdown",
      "source": [
        "### 4. Ask the Model to Extract all PII data"
      ],
      "metadata": {
        "nteract": {
          "transient": {
            "deleting": false
          }
        }
      }
    },
    {
      "cell_type": "code",
      "source": [
        "# prompt = \"\"\"List all PII data from following statement in JSON format:\n",
        "prompt = \"\"\"Extract PII data in JSON format:\n",
        "John Doe is a 35-year old man and he lives at 21 Main Street, New York, NY. He is a software engineer and he works at Microsft. He has a wife named Jane Doe and they have two children\n",
        "\"\"\"\n",
        "\n",
        "message_text = [{\"role\":\"system\",\"content\":prompt}]\n",
        "\n",
        "response = client.chat.completions.create(\n",
        "  model=model, \n",
        "  messages = message_text,\n",
        ")\n",
        "\n",
        "response.choices[0].message.content"
      ],
      "outputs": [
        {
          "output_type": "execute_result",
          "execution_count": 11,
          "data": {
            "text/plain": "'```json\\n{\\n  \"name\": \"John Doe\",\\n  \"age\": 35,\\n  \"address\": \"21 Main Street, New York, NY\",\\n  \"occupation\": \"software engineer\",\\n  \"employer\": \"Microsft\",\\n  \"spouse\": {\\n    \"name\": \"Jane Doe\"\\n  },\\n  \"children_count\": 2\\n}\\n```'"
          },
          "metadata": {}
        }
      ],
      "execution_count": 11,
      "metadata": {
        "gather": {
          "logged": 1726574590139
        }
      }
    }
  ],
  "metadata": {
    "kernel_info": {
      "name": "python3"
    },
    "kernelspec": {
      "name": "python3",
      "language": "python",
      "display_name": "Python 3 (ipykernel)"
    },
    "language_info": {
      "name": "python",
      "version": "3.9.18",
      "mimetype": "text/x-python",
      "codemirror_mode": {
        "name": "ipython",
        "version": 3
      },
      "pygments_lexer": "ipython3",
      "nbconvert_exporter": "python",
      "file_extension": ".py"
    },
    "microsoft": {
      "host": {
        "AzureML": {
          "notebookHasBeenCompleted": true
        }
      },
      "ms_spell_check": {
        "ms_spell_check_language": "en"
      }
    },
    "nteract": {
      "version": "nteract-front-end@1.0.0"
    },
    "orig_nbformat": 4
  },
  "nbformat": 4,
  "nbformat_minor": 2
}