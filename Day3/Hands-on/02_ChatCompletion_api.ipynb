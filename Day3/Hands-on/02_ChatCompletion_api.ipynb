{
  "cells": [
    {
      "cell_type": "markdown",
      "source": [
        "### 1. Import helper libraries and instantiate credentials"
      ],
      "metadata": {
        "nteract": {
          "transient": {
            "deleting": false
          }
        }
      }
    },
    {
      "cell_type": "code",
      "source": [
        "import re\n",
        "import requests\n",
        "import sys\n",
        "import os\n",
        "from openai import AzureOpenAI\n",
        "from dotenv import load_dotenv\n",
        "load_dotenv()\n",
        "\n",
        "client = AzureOpenAI(\n",
        "  azure_endpoint = os.getenv(\"AZURE_OPENAI_ENDPOINT\"), \n",
        "  api_key=os.getenv(\"AZURE_OPENAI_KEY\"),  \n",
        "  #api_version=\"2024-02-15-preview\"\n",
        "  api_version='2023-05-15',\n",
        ")\n",
        "\n",
        "# set the model deployment name\n",
        "model = 'gpt-4'"
      ],
      "outputs": [],
      "execution_count": 5,
      "metadata": {
        "gather": {
          "logged": 1721041489171
        }
      }
    },
    {
      "cell_type": "markdown",
      "source": [
        "### 2. Chat with Model to ask generic question"
      ],
      "metadata": {
        "nteract": {
          "transient": {
            "deleting": false
          }
        }
      }
    },
    {
      "cell_type": "code",
      "source": [
        "prompt = \"\"\"Answer the question as truthfully as possible, and if you're unsure of the answer, say \"Sorry, I don't know\".\n",
        "\n",
        "Q: Who won the 2020 Summer Olympics men's high jump?\n",
        "A:\"\"\"\n",
        "message_text = [{\"role\":\"system\",\"content\":prompt}]\n",
        "\n",
        "response = client.chat.completions.create(\n",
        "  #model=os.getenv(\"CHAT_COMPLETION_NAME\"), # model = \"deployment_name\"\n",
        "  model=model, # model = \"deployment_name\"\n",
        "  messages = message_text,\n",
        ")\n",
        "\n",
        "response.choices[0].message.content"
      ],
      "outputs": [
        {
          "output_type": "execute_result",
          "execution_count": 6,
          "data": {
            "text/plain": "\"The men's high jump event at the Tokyo 2020 Summer Olympics, held in 2021 due to the COVID-19 pandemic, ended with a historic result. The gold medal was shared between Mutaz Essa Barshim of Qatar and Gianmarco Tamberi of Italy after both athletes cleared 2.37 meters and decided not to have a jump-off to break the tie. It was a rare and memorable moment of sportsmanship and friendship at the Olympic Games.\""
          },
          "metadata": {}
        }
      ],
      "execution_count": 6,
      "metadata": {
        "gather": {
          "logged": 1721041496972
        }
      }
    },
    {
      "cell_type": "markdown",
      "source": [
        "### 3. Ask the Model to classify the sentiment"
      ],
      "metadata": {
        "nteract": {
          "transient": {
            "deleting": false
          }
        }
      }
    },
    {
      "cell_type": "code",
      "source": [
        "prompt = \"\"\"Decide whether the following customer feedback is positive or negative.\n",
        "\n",
        "Q: I was disappointed with the quality of the product. It was very cheaply made and did not meet my expectations at all.\n",
        "Q: I was happy with this product, it is well made and great quality for the price.\n",
        "\"\"\"\n",
        "\n",
        "message_text = [{\"role\":\"system\",\"content\":prompt}]\n",
        "\n",
        "response = client.chat.completions.create(\n",
        "  #model=os.getenv(\"CHAT_COMPLETION_NAME\"), # model = \"deployment_name\"\n",
        "  model=model, # model = \"deployment_name\"\n",
        "  messages = message_text,\n",
        ")\n",
        "\n",
        "response.choices[0].message.content"
      ],
      "outputs": [
        {
          "output_type": "execute_result",
          "execution_count": 5,
          "data": {
            "text/plain": "'The first feedback is negative:\\n- \"I was disappointed with the quality of the product.\"\\n- \"It was very cheaply made and did not meet my expectations at all.\"\\n\\nThe second feedback is positive:\\n- \"I was happy with this product, it is well made and great quality for the price.\"'"
          },
          "metadata": {}
        }
      ],
      "execution_count": 5,
      "metadata": {
        "gather": {
          "logged": 1720818679996
        }
      }
    },
    {
      "cell_type": "markdown",
      "source": [
        "### 4. Ask the Model to Extract all PII data"
      ],
      "metadata": {
        "nteract": {
          "transient": {
            "deleting": false
          }
        }
      }
    },
    {
      "cell_type": "code",
      "source": [
        "# prompt = \"\"\"List all PII data from following statement in JSON format:\n",
        "prompt = \"\"\"List all PII data from following statement:\n",
        "John Doe is a 35-year old man and he lives at 21 Main Street, New York, NY. He is a software engineer and he works at Microsft. He has a wife named Jane Doe and they have two children\n",
        "\"\"\"\n",
        "\n",
        "message_text = [{\"role\":\"system\",\"content\":prompt}]\n",
        "\n",
        "response = client.chat.completions.create(\n",
        "  #model=os.getenv(\"CHAT_COMPLETION_NAME\"), # model = \"deployment_name\"\n",
        "  model=model, # model = \"deployment_name\"\n",
        "  messages = message_text,\n",
        ")\n",
        "\n",
        "response.choices[0].message.content"
      ],
      "outputs": [
        {
          "output_type": "execute_result",
          "execution_count": 9,
          "data": {
            "text/plain": "\"- Full Name: John Doe\\n- Age: 35 years old\\n- Address: 21 Main Street, New York, NY\\n- Employer: Microsoft\\n- Spouse's Name: Jane Doe\\n- Information about family members: Two children\\n\\nAll these details are considered Personally Identifiable Information (PII) as they can be used to identify or locate an individual.\""
          },
          "metadata": {}
        }
      ],
      "execution_count": 9,
      "metadata": {
        "gather": {
          "logged": 1720818890963
        }
      }
    },
    {
      "cell_type": "code",
      "source": [],
      "outputs": [],
      "execution_count": null,
      "metadata": {}
    }
  ],
  "metadata": {
    "kernelspec": {
      "name": "python3",
      "language": "python",
      "display_name": "Python 3 (ipykernel)"
    },
    "language_info": {
      "name": "python",
      "version": "3.9.18",
      "mimetype": "text/x-python",
      "codemirror_mode": {
        "name": "ipython",
        "version": 3
      },
      "pygments_lexer": "ipython3",
      "nbconvert_exporter": "python",
      "file_extension": ".py"
    },
    "orig_nbformat": 4,
    "microsoft": {
      "ms_spell_check": {
        "ms_spell_check_language": "en"
      },
      "host": {
        "AzureML": {
          "notebookHasBeenCompleted": true
        }
      }
    },
    "kernel_info": {
      "name": "python3"
    },
    "nteract": {
      "version": "nteract-front-end@1.0.0"
    }
  },
  "nbformat": 4,
  "nbformat_minor": 2
}